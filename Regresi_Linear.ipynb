{
  "nbformat": 4,
  "nbformat_minor": 0,
  "metadata": {
    "colab": {
      "name": "Regresi_Linear.ipynb",
      "provenance": [],
      "collapsed_sections": [],
      "toc_visible": true,
      "authorship_tag": "ABX9TyOqDi6tMppEFNnzAxzZHAk8",
      "include_colab_link": true
    },
    "kernelspec": {
      "name": "python3",
      "display_name": "Python 3"
    },
    "language_info": {
      "name": "python"
    },
    "accelerator": "GPU"
  },
  "cells": [
    {
      "cell_type": "markdown",
      "metadata": {
        "id": "view-in-github",
        "colab_type": "text"
      },
      "source": [
        "<a href=\"https://colab.research.google.com/github/PariyantoNoviansyah/RegresiLinear/blob/main/Regresi_Linear.ipynb\" target=\"_parent\"><img src=\"https://colab.research.google.com/assets/colab-badge.svg\" alt=\"Open In Colab\"/></a>"
      ]
    },
    {
      "cell_type": "code",
      "metadata": {
        "id": "3VqJcx_xLP0T"
      },
      "source": [
        "import vega_datasets\n",
        "import matplotlib.pyplot as plt\n",
        "from sklearn import linear_model\n",
        "import numpy as np\n",
        "from sklearn.model_selection import train_test_split"
      ],
      "execution_count": null,
      "outputs": []
    },
    {
      "cell_type": "markdown",
      "metadata": {
        "id": "ZjJXChbItUbC"
      },
      "source": [
        "#Hubungan Antara \"Berat Mobil Dalam Satuan lbs=Weight_in_lbs\" Terhadap \"Jarak MiL per Galon=Miles_per_gallon\""
      ]
    },
    {
      "cell_type": "code",
      "metadata": {
        "colab": {
          "base_uri": "https://localhost:8080/",
          "height": 282
        },
        "id": "wtrlvxWDtZIg",
        "outputId": "720c6e68-f5f8-44cc-aafd-24b9f7a1c0ee"
      },
      "source": [
        "cr = vega_datasets.data.cars()\n",
        "plt.scatter(cr['Weight_in_lbs'],cr['Miles_per_Gallon'])"
      ],
      "execution_count": null,
      "outputs": [
        {
          "output_type": "execute_result",
          "data": {
            "text/plain": [
              "<matplotlib.collections.PathCollection at 0x7fd4ec9f5410>"
            ]
          },
          "metadata": {
            "tags": []
          },
          "execution_count": 40
        },
        {
          "output_type": "display_data",
          "data": {
            "image/png": "[encoded data removed]",
            "text/plain": [
              "<Figure size 432x288 with 1 Axes>"
            ]
          },
          "metadata": {
            "tags": [],
            "needs_background": "light"
          }
        }
      ]
    },
    {
      "cell_type": "markdown",
      "metadata": {
        "id": "Q57WjHVBnl0J"
      },
      "source": [
        "#Data Cleaning (Pembersihan Data Apakah Ada Data yang Kosong Apa tidak"
      ]
    },
    {
      "cell_type": "markdown",
      "metadata": {
        "id": "u37kyjSOoa2j"
      },
      "source": [
        "Data Cleaning Pada Bagian \"Weight_in_lbs\" False Menyatakan Bahwa Tidak Ada Data yang Kosong"
      ]
    },
    {
      "cell_type": "code",
      "metadata": {
        "colab": {
          "base_uri": "https://localhost:8080/"
        },
        "id": "hijarFpik-CH",
        "outputId": "0391702a-4d8e-48b3-9621-24c03d589440"
      },
      "source": [
        "set(cr['Weight_in_lbs'].isna())"
      ],
      "execution_count": null,
      "outputs": [
        {
          "output_type": "execute_result",
          "data": {
            "text/plain": [
              "{False}"
            ]
          },
          "metadata": {
            "tags": []
          },
          "execution_count": 41
        }
      ]
    },
    {
      "cell_type": "markdown",
      "metadata": {
        "id": "Move8xVwpK0k"
      },
      "source": [
        "Data Cleaning Pada Bagian \"Miles_per_Gallon\" {False, True} Menyatakan Bahwa Ada Data yang Kosong"
      ]
    },
    {
      "cell_type": "code",
      "metadata": {
        "colab": {
          "base_uri": "https://localhost:8080/"
        },
        "id": "lsmUY4Aeo33B",
        "outputId": "e666fab6-3c0a-44f6-9862-55d043768f2a"
      },
      "source": [
        "set(cr['Miles_per_Gallon'].isna())"
      ],
      "execution_count": null,
      "outputs": [
        {
          "output_type": "execute_result",
          "data": {
            "text/plain": [
              "{False, True}"
            ]
          },
          "metadata": {
            "tags": []
          },
          "execution_count": 42
        }
      ]
    },
    {
      "cell_type": "markdown",
      "metadata": {
        "id": "GU0tqLGzqRzu"
      },
      "source": [
        "#Karna Ada Data yang Kosong di \"Miles_per_Gallon\" Jadi Kita Bersihkan Dengan Cara mengisi Data Kosong Tadi Dengan NIlai Rata-rata (\"y.mean\") Yaitu Sekitar 23.51\n"
      ]
    },
    {
      "cell_type": "code",
      "metadata": {
        "id": "np0iZAGfq9Ah"
      },
      "source": [
        "x = cr['Weight_in_lbs']\n",
        "y = cr['Miles_per_Gallon']"
      ],
      "execution_count": null,
      "outputs": []
    },
    {
      "cell_type": "code",
      "metadata": {
        "colab": {
          "base_uri": "https://localhost:8080/"
        },
        "id": "FB0MSaCXrUHB",
        "outputId": "ee461c0f-a945-48bf-9645-783fc22da9a8"
      },
      "source": [
        "y.mean()"
      ],
      "execution_count": null,
      "outputs": [
        {
          "output_type": "execute_result",
          "data": {
            "text/plain": [
              "23.514572864321615"
            ]
          },
          "metadata": {
            "tags": []
          },
          "execution_count": 44
        }
      ]
    },
    {
      "cell_type": "code",
      "metadata": {
        "id": "VdeB_03Irdfq"
      },
      "source": [
        "y = y.fillna(y.mean())"
      ],
      "execution_count": null,
      "outputs": []
    },
    {
      "cell_type": "markdown",
      "metadata": {
        "id": "y_gdwaz9uqL0"
      },
      "source": [
        "#Memastikan Apakah Masih Ada Data yang Kosong Pada Bagian \"Miles_per_Gallon\""
      ]
    },
    {
      "cell_type": "code",
      "metadata": {
        "id": "AWnhPmBWr1tE",
        "colab": {
          "base_uri": "https://localhost:8080/"
        },
        "outputId": "cbea55c3-565c-45ee-b5d3-87b1e2770f8b"
      },
      "source": [
        "set(y.isna())"
      ],
      "execution_count": null,
      "outputs": [
        {
          "output_type": "execute_result",
          "data": {
            "text/plain": [
              "{False}"
            ]
          },
          "metadata": {
            "tags": []
          },
          "execution_count": 46
        }
      ]
    },
    {
      "cell_type": "markdown",
      "metadata": {
        "id": "F3rsXb4fv2Nb"
      },
      "source": [
        "#Mengubah sklern Format Pandas ke Format Numpy"
      ]
    },
    {
      "cell_type": "code",
      "metadata": {
        "id": "u9CSM7wnuiTC"
      },
      "source": [
        "x = np.array(x)\n",
        "y = np.array(y)"
      ],
      "execution_count": null,
      "outputs": []
    },
    {
      "cell_type": "markdown",
      "metadata": {
        "id": "l1HbyProx80c"
      },
      "source": [
        "#Membagi Data Untuk Ditest dan Ditraning Dengan Jumlah Data yang Kita Punya 406"
      ]
    },
    {
      "cell_type": "code",
      "metadata": {
        "id": "5RT0BKzmvveT"
      },
      "source": [
        ""
      ],
      "execution_count": null,
      "outputs": []
    },
    {
      "cell_type": "markdown",
      "metadata": {
        "id": "EIWhoYBByxIA"
      },
      "source": [
        "#Merubah Bentuk Yang Masih Dalam 2 Dimensi \"(406, )=(406,1)\""
      ]
    },
    {
      "cell_type": "code",
      "metadata": {
        "id": "ZVS-wisJx1Z9"
      },
      "source": [
        "x = x.reshape(len(x),1)\n",
        "y = y.reshape(len(y),1)"
      ],
      "execution_count": null,
      "outputs": []
    },
    {
      "cell_type": "markdown",
      "metadata": {
        "id": "mz9telq20PQZ"
      },
      "source": [
        "#Membagi Data Traning dan Data Testing"
      ]
    },
    {
      "cell_type": "code",
      "metadata": {
        "id": "AIw2Lxynzaj7"
      },
      "source": [
        "x_train, x_test, y_train, y_test = train_test_split(x,y)"
      ],
      "execution_count": null,
      "outputs": []
    },
    {
      "cell_type": "markdown",
      "metadata": {
        "id": "43eYfFKOHqxc"
      },
      "source": [
        "#Masuk Kedalam sklearn"
      ]
    },
    {
      "cell_type": "code",
      "metadata": {
        "colab": {
          "base_uri": "https://localhost:8080/"
        },
        "id": "ZHMTbD9jHcPW",
        "outputId": "422cc8c1-d685-46f7-8427-7ae225c20431"
      },
      "source": [
        "linear_reg = linear_model.LinearRegression()\n",
        "linear_reg.fit(x_train,y_train)"
      ],
      "execution_count": null,
      "outputs": [
        {
          "output_type": "execute_result",
          "data": {
            "text/plain": [
              "LinearRegression(copy_X=True, fit_intercept=True, n_jobs=None, normalize=False)"
            ]
          },
          "metadata": {
            "tags": []
          },
          "execution_count": 84
        }
      ]
    },
    {
      "cell_type": "markdown",
      "metadata": {
        "id": "AZG0LUrOIzLQ"
      },
      "source": [
        "#Membuat Prediksi Dari \"linear_reg\""
      ]
    },
    {
      "cell_type": "code",
      "metadata": {
        "colab": {
          "base_uri": "https://localhost:8080/",
          "height": 282
        },
        "id": "0ia-44dVIXUj",
        "outputId": "c8907928-d2a9-42e4-f8c9-39bd2c026ae5"
      },
      "source": [
        "y_test_pred = linear_reg.predict(x_test)\n",
        "plt.scatter(x_train,y_train,color='green')\n",
        "plt.plot(x_test,y_test_pred,color='red')"
      ],
      "execution_count": null,
      "outputs": [
        {
          "output_type": "execute_result",
          "data": {
            "text/plain": [
              "[<matplotlib.lines.Line2D at 0x7fd4ea3b9a90>]"
            ]
          },
          "metadata": {
            "tags": []
          },
          "execution_count": 88
        },
        {
          "output_type": "display_data",
          "data": {
            "image/png": "[encoded data removed]",
            "text/plain": [
              "<Figure size 432x288 with 1 Axes>"
            ]
          },
          "metadata": {
            "tags": [],
            "needs_background": "light"
          }
        }
      ]
    }
  ]
}